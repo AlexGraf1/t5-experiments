{
 "cells": [
  {
   "cell_type": "code",
   "execution_count": 108,
   "id": "8f8cc638",
   "metadata": {},
   "outputs": [],
   "source": [
    "import client_lib"
   ]
  },
  {
   "cell_type": "code",
   "execution_count": 109,
   "id": "3263e19d",
   "metadata": {},
   "outputs": [
    {
     "data": {
      "text/plain": [
       "'/home/user/conda/lib/python3.7/client_lib.py'"
      ]
     },
     "execution_count": 109,
     "metadata": {},
     "output_type": "execute_result"
    }
   ],
   "source": [
    "client_lib.__file__"
   ]
  },
  {
   "cell_type": "code",
   "execution_count": 110,
   "id": "ed26cfc0",
   "metadata": {},
   "outputs": [
    {
     "name": "stdout",
     "output_type": "stream",
     "text": [
      "9ddc0907-a2df-40d5-814e-f26ed237dfb3\n"
     ]
    }
   ],
   "source": [
    "! echo $GWAPI_KEY"
   ]
  },
  {
   "cell_type": "code",
   "execution_count": 111,
   "id": "32f6361a",
   "metadata": {},
   "outputs": [
    {
     "name": "stdout",
     "output_type": "stream",
     "text": [
      "global-gw.aicloud-api.svc.cluster.local\n"
     ]
    }
   ],
   "source": [
    "! echo $GWAPI_ADDR"
   ]
  },
  {
   "cell_type": "code",
   "execution_count": 5,
   "id": "366f2bcb",
   "metadata": {},
   "outputs": [],
   "source": [
    "base_image = 'registry.aicloud.sbcp.ru/base/horovod-cuda10.1-tf2.3.0'"
   ]
  },
  {
   "cell_type": "code",
   "execution_count": null,
   "id": "866cb6bb",
   "metadata": {},
   "outputs": [],
   "source": [
    "job = client_lib.ImageBuildJob(\n",
    "         from_image=job.new_image,\n",
    "         requirements_file='/home/jovyan/t5-experiments/requirements_hvd.txt'\n",
    ")\n",
    "job.submit()"
   ]
  },
  {
   "cell_type": "code",
   "execution_count": null,
   "id": "506eeba0",
   "metadata": {},
   "outputs": [],
   "source": [
    "job.logs()"
   ]
  },
  {
   "cell_type": "code",
   "execution_count": null,
   "id": "eeb200a3",
   "metadata": {},
   "outputs": [],
   "source": [
    "job.new_image"
   ]
  },
  {
   "cell_type": "code",
   "execution_count": null,
   "id": "31c55490",
   "metadata": {},
   "outputs": [],
   "source": [
    "build_image = job.new_image\n",
    "build_image"
   ]
  },
  {
   "cell_type": "code",
   "execution_count": null,
   "id": "46d5108c",
   "metadata": {},
   "outputs": [],
   "source": [
    "# copy data"
   ]
  },
  {
   "cell_type": "code",
   "execution_count": null,
   "id": "45bcecff",
   "metadata": {},
   "outputs": [],
   "source": [
    "from client_lib import save_aws_credentials"
   ]
  },
  {
   "cell_type": "code",
   "execution_count": null,
   "id": "57618e05",
   "metadata": {},
   "outputs": [],
   "source": [
    "save_aws_credentials('d9af805b-c605-4bf8-9109-e721d22cdc0a-namespace',\n",
    "                     '335e5d15-b636-4480-9a91-c2ea0c7e1d00',\n",
    "                     '+vErK/WrXVEF7F+e4DN/ga4ShLq+d+X96AckI4fM') "
   ]
  },
  {
   "cell_type": "code",
   "execution_count": null,
   "id": "c4fa1069",
   "metadata": {},
   "outputs": [],
   "source": [
    "client_lib.S3CopyJob('s3://e895af71-4782-409c-b28a-31eddd93c1b3-bucket/data/Wikipedia/preprocessed_shards',\n",
    "                     '/home/jovyan/data/Wikipedia/preprocessed_shards',\n",
    "                     recursive=True).submit()"
   ]
  },
  {
   "cell_type": "code",
   "execution_count": 6,
   "id": "b684ee3c",
   "metadata": {},
   "outputs": [],
   "source": [
    "## submit job"
   ]
  },
  {
   "cell_type": "code",
   "execution_count": 112,
   "id": "64aaf803",
   "metadata": {},
   "outputs": [],
   "source": [
    "base_image = 'registry.aicloud.sbcp.ru/base/horovod-cuda10.1-tf2.3.0'"
   ]
  },
  {
   "cell_type": "code",
   "execution_count": 113,
   "id": "88794f2c",
   "metadata": {},
   "outputs": [],
   "source": [
    "import os"
   ]
  },
  {
   "cell_type": "code",
   "execution_count": 114,
   "id": "57aa316c",
   "metadata": {},
   "outputs": [
    {
     "data": {
      "text/plain": [
       "'/usr/local/nvidia/lib:/usr/local/nvidia/lib64:/home/jovyan/nccl_2.8.3-1+cuda10.1_x86_64/lib'"
      ]
     },
     "execution_count": 114,
     "metadata": {},
     "output_type": "execute_result"
    }
   ],
   "source": [
    "os.environ['LD_LIBRARY_PATH'] + ':/home/jovyan/nccl_2.8.3-1+cuda10.1_x86_64/lib'"
   ]
  },
  {
   "cell_type": "code",
   "execution_count": 115,
   "id": "d45814c7",
   "metadata": {},
   "outputs": [],
   "source": [
    "conda_env = '/home/jovyan/envs/tf2.4/'\n",
    "env_variables={\n",
    "               'LD_LIBRARY_PATH': os.environ['LD_LIBRARY_PATH'] + ':/home/jovyan/nccl_2.8.3-1+cuda10.1_x86_64/lib',\n",
    "               'TRANSFORMERS_OFFLINE': 1,\n",
    "               'HF_DATASETS_OFFLINE' :1,\n",
    "               'TRANSFORMERS_CACHE': '/home/jovyan/.cache/huggingface/transformers',\n",
    "              }"
   ]
  },
  {
   "cell_type": "code",
   "execution_count": 25,
   "id": "ead2597e",
   "metadata": {},
   "outputs": [],
   "source": [
    "test_run = client_lib.Job(base_image=base_image,\n",
    "                          conda_env=conda_env,\n",
    "                          script='/home/jovyan/t5-experiments/pip_list.py',\n",
    "                          n_workers=1,\n",
    "                          env_variables=env_variables,\n",
    "                          warm_cache=False,\n",
    "                          job_desc='pip_list')"
   ]
  },
  {
   "cell_type": "code",
   "execution_count": 26,
   "id": "58436b4f",
   "metadata": {},
   "outputs": [
    {
     "data": {
      "text/plain": [
       "'Job \"lm-mpi-job-62c70571-a5fd-4d56-a340-aa6ee8b00d96\" created'"
      ]
     },
     "execution_count": 26,
     "metadata": {},
     "output_type": "execute_result"
    }
   ],
   "source": [
    "test_run.submit()"
   ]
  },
  {
   "cell_type": "code",
   "execution_count": 29,
   "id": "85aaef8e",
   "metadata": {},
   "outputs": [
    {
     "name": "stdout",
     "output_type": "stream",
     "text": [
      "2021-07-28T14:04:34.722690024Z lm-mpi-job-62c70571-a5fd-4d56-a340-aa6ee8b00d96-mpiworker-0.lm-mpi-job-62c70571-a5fd-4d56-a340-aa6ee8b00d96\n",
      "2021-07-28T14:04:34.722746079Z 1\n",
      "2021-07-28T14:04:34.735866875Z worker name is lm-mpi-job-62c70571-a5fd-4d56-a340-aa6ee8b00d96-mpiworker-0.lm-mpi-job-62c70571-a5fd-4d56-a340-aa6ee8b00d96\n",
      "2021-07-28T14:04:34.73845001Z lm-mpi-job-62c70571-a5fd-4d56-a340-aa6ee8b00d96-mpiworker-0.lm-mpi-job-62c70571-a5fd-4d56-a340-aa6ee8b00d96 is running..\n",
      "2021-07-28T14:04:34.744139809Z lm-mpi-job-62c70571-a5fd-4d56-a340-aa6ee8b00d96-mpiworker-0.lm-mpi-job-62c70571-a5fd-4d56-a340-aa6ee8b00d96:1,\n",
      "2021-07-28T14:04:35.461818887Z Warning: Permanently added '[lm-mpi-job-62c70571-a5fd-4d56-a340-aa6ee8b00d96-mpiworker-0.lm-mpi-job-62c70571-a5fd-4d56-a340-aa6ee8b00d96]:2222,[10.233.77.246]:2222' (ECDSA) to the list of known hosts.\n",
      "2021-07-28T14:04:37.207026808Z Package                       Version\n",
      "2021-07-28T14:04:37.207084913Z ----------------------------- ---------------------\n",
      "2021-07-28T14:04:37.207103574Z absl-py                       0.12.0\n",
      "2021-07-28T14:04:37.207106757Z aio-pika                      6.4.1\n",
      "2021-07-28T14:04:37.207109713Z aiormq                        3.3.1\n",
      "2021-07-28T14:04:37.207112647Z astunparse                    1.6.3\n",
      "2021-07-28T14:04:37.20711542Z attrs                         21.2.0\n",
      "2021-07-28T14:04:37.207118368Z Babel                         2.9.1\n",
      "2021-07-28T14:04:37.207152086Z backcall                      0.2.0\n",
      "2021-07-28T14:04:37.20715526Z backports.functools-lru-cache 1.6.4\n",
      "2021-07-28T14:04:37.207158035Z blessings                     1.7\n",
      "2021-07-28T14:04:37.207160911Z cachetools                    4.2.2\n",
      "2021-07-28T14:04:37.207163746Z certifi                       2021.5.30\n",
      "2021-07-28T14:04:37.207180093Z cffi                          1.14.6\n",
      "2021-07-28T14:04:37.207183051Z chardet                       3.0.4\n",
      "2021-07-28T14:04:37.207185863Z click                         7.1.2\n",
      "2021-07-28T14:04:37.207188577Z cloudpickle                   1.6.0\n",
      "2021-07-28T14:04:37.207209414Z cryptography                  3.4.7\n",
      "2021-07-28T14:04:37.20721218Z Cython                        0.29.14\n",
      "2021-07-28T14:04:37.207214967Z datasets                      1.1.3\n",
      "2021-07-28T14:04:37.207217709Z DAWG-Python                   0.7.2\n",
      "2021-07-28T14:04:37.207242087Z decorator                     5.0.9\n",
      "2021-07-28T14:04:37.207261933Z deeppavlov                    0.14.0\n",
      "2021-07-28T14:04:37.207265163Z dill                          0.3.4\n",
      "2021-07-28T14:04:37.207280366Z docopt                        0.6.2\n",
      "2021-07-28T14:04:37.207283579Z fastapi                       0.47.1\n",
      "2021-07-28T14:04:37.20728645Z filelock                      3.0.12\n",
      "2021-07-28T14:04:37.207289335Z flatbuffers                   1.12\n",
      "2021-07-28T14:04:37.207305318Z future                        0.18.2\n",
      "2021-07-28T14:04:37.207335347Z gast                          0.3.3\n",
      "2021-07-28T14:04:37.207338685Z gin-config                    0.4.0\n",
      "2021-07-28T14:04:37.207341564Z google-auth                   1.32.1\n",
      "2021-07-28T14:04:37.207344372Z google-auth-oauthlib          0.4.4\n",
      "2021-07-28T14:04:37.20734713Z google-pasta                  0.2.0\n",
      "2021-07-28T14:04:37.207349909Z googleapis-common-protos      1.53.0\n",
      "2021-07-28T14:04:37.207352844Z gpustat                       0.6.0\n",
      "2021-07-28T14:04:37.207355659Z grpcio                        1.32.0\n",
      "2021-07-28T14:04:37.207359591Z h11                           0.9.0\n",
      "2021-07-28T14:04:37.207362406Z h5py                          2.10.0\n",
      "2021-07-28T14:04:37.207365307Z horovod                       0.21.3\n",
      "2021-07-28T14:04:37.207368053Z httptools                     0.1.2\n",
      "2021-07-28T14:04:37.207370792Z huggingface-hub               0.0.12\n",
      "2021-07-28T14:04:37.207373536Z idna                          2.8\n",
      "2021-07-28T14:04:37.207471156Z importlib-resources           5.2.0\n",
      "2021-07-28T14:04:37.207475842Z ipython                       7.25.0\n",
      "2021-07-28T14:04:37.207478683Z ipython-genutils              0.2.0\n",
      "2021-07-28T14:04:37.207494621Z jedi                          0.18.0\n",
      "2021-07-28T14:04:37.207501742Z joblib                        1.0.1\n",
      "2021-07-28T14:04:37.207505348Z keras-nightly                 2.5.0.dev2021032900\n",
      "2021-07-28T14:04:37.207508354Z Keras-Preprocessing           1.1.2\n",
      "2021-07-28T14:04:37.207587438Z Markdown                      3.3.4\n",
      "2021-07-28T14:04:37.207607904Z matplotlib-inline             0.1.2\n",
      "2021-07-28T14:04:37.207612365Z mesh-tensorflow               0.1.19\n",
      "2021-07-28T14:04:37.207619124Z mkl-fft                       1.3.0\n",
      "2021-07-28T14:04:37.207622661Z mkl-random                    1.2.2\n",
      "2021-07-28T14:04:37.207657971Z mkl-service                   2.4.0\n",
      "2021-07-28T14:04:37.207680852Z multidict                     5.1.0\n",
      "2021-07-28T14:04:37.207684Z multiprocess                  0.70.12.2\n",
      "2021-07-28T14:04:37.207688514Z nltk                          3.4.5\n",
      "2021-07-28T14:04:37.20772778Z numpy                         1.19.5\n",
      "2021-07-28T14:04:37.207731046Z nvidia-ml-py3                 7.352.0\n",
      "2021-07-28T14:04:37.207733883Z oauthlib                      3.1.1\n",
      "2021-07-28T14:04:37.207755127Z olefile                       0.46\n",
      "2021-07-28T14:04:37.207947477Z opt-einsum                    3.3.0\n",
      "2021-07-28T14:04:37.207966774Z overrides                     2.7.0\n",
      "2021-07-28T14:04:37.207980244Z packaging                     21.0\n",
      "2021-07-28T14:04:37.208012956Z pamqp                         2.3.0\n",
      "2021-07-28T14:04:37.208025607Z pandas                        1.2.3\n",
      "2021-07-28T14:04:37.208029484Z parso                         0.8.2\n",
      "2021-07-28T14:04:37.208033124Z pexpect                       4.8.0\n",
      "2021-07-28T14:04:37.208036022Z pickleshare                   0.7.5\n",
      "2021-07-28T14:04:37.208038907Z Pillow                        8.3.1\n",
      "2021-07-28T14:04:37.208043893Z pip                           21.1.3\n",
      "2021-07-28T14:04:37.208047051Z portalocker                   2.0.0\n",
      "2021-07-28T14:04:37.208093725Z prometheus-client             0.7.1\n",
      "2021-07-28T14:04:37.208100792Z promise                       2.3\n",
      "2021-07-28T14:04:37.208109915Z prompt-toolkit                3.0.19\n",
      "2021-07-28T14:04:37.208112882Z protobuf                      3.17.3\n",
      "2021-07-28T14:04:37.208235847Z psutil                        5.8.0\n",
      "2021-07-28T14:04:37.208242116Z ptyprocess                    0.7.0\n",
      "2021-07-28T14:04:37.208245168Z pyarrow                       4.0.1\n",
      "2021-07-28T14:04:37.208291058Z pyasn1                        0.4.8\n",
      "2021-07-28T14:04:37.208295137Z pyasn1-modules                0.2.8\n",
      "2021-07-28T14:04:37.208309497Z pycparser                     2.20\n",
      "2021-07-28T14:04:37.208321976Z pydantic                      1.3\n",
      "2021-07-28T14:04:37.208370003Z Pygments                      2.9.0\n",
      "2021-07-28T14:04:37.208373481Z pymorphy2                     0.8\n",
      "2021-07-28T14:04:37.208450214Z pymorphy2-dicts               2.4.393442.3710985\n",
      "2021-07-28T14:04:37.211951744Z pymorphy2-dicts-ru            2.4.417127.4579844\n",
      "2021-07-28T14:04:37.21196571Z pyOpenSSL                     19.1.0\n",
      "2021-07-28T14:04:37.211970386Z pyparsing                     2.4.7\n",
      "2021-07-28T14:04:37.211978912Z pyTelegramBotAPI              3.6.7\n",
      "2021-07-28T14:04:37.212029155Z python-dateutil               2.8.1\n",
      "2021-07-28T14:04:37.212044269Z pytz                          2019.1\n",
      "2021-07-28T14:04:37.212047584Z PyYAML                        5.4.1\n",
      "2021-07-28T14:04:37.212050559Z regex                         2021.7.6\n",
      "2021-07-28T14:04:37.212053444Z requests                      2.22.0\n",
      "2021-07-28T14:04:37.212056227Z requests-oauthlib             1.3.0\n",
      "2021-07-28T14:04:37.212059083Z rouge-score                   0.0.4\n",
      "2021-07-28T14:04:37.212062078Z rsa                           4.7.2\n",
      "2021-07-28T14:04:37.212064875Z ruamel.yaml                   0.15.100\n",
      "2021-07-28T14:04:37.212067734Z rusenttokenize                0.0.5\n",
      "2021-07-28T14:04:37.21207057Z sacrebleu                     1.5.1\n",
      "2021-07-28T14:04:37.212073909Z sacremoses                    0.0.35\n",
      "2021-07-28T14:04:37.212077844Z scikit-learn                  0.24.1\n",
      "2021-07-28T14:04:37.212093928Z scipy                         1.4.1\n",
      "2021-07-28T14:04:37.212097441Z sentencepiece                 0.1.96\n",
      "2021-07-28T14:04:37.212100599Z setuptools                    49.6.0.post20210108\n",
      "2021-07-28T14:04:37.21210328Z six                           1.15.0\n",
      "2021-07-28T14:04:37.212106106Z starlette                     0.12.9\n",
      "2021-07-28T14:04:37.212108682Z t5                            0.8.1\n",
      "2021-07-28T14:04:37.212111493Z tensorboard                   2.5.0\n",
      "2021-07-28T14:04:37.212114326Z tensorboard-data-server       0.6.1\n",
      "2021-07-28T14:04:37.212117072Z tensorboard-plugin-wit        1.8.0\n",
      "2021-07-28T14:04:37.212119772Z tensorflow-cpu                2.4.2\n",
      "2021-07-28T14:04:37.212122541Z tensorflow-datasets           4.3.0\n",
      "2021-07-28T14:04:37.212125234Z tensorflow-estimator          2.4.0\n",
      "2021-07-28T14:04:37.212128036Z tensorflow-hub                0.12.0\n",
      "2021-07-28T14:04:37.212130792Z tensorflow-io                 0.17.0\n",
      "2021-07-28T14:04:37.212133643Z tensorflow-metadata           1.1.0\n",
      "2021-07-28T14:04:37.212136286Z tensorflow-text               2.4.2\n",
      "2021-07-28T14:04:37.212139085Z termcolor                     1.1.0\n",
      "2021-07-28T14:04:37.21214246Z tfds-nightly                  4.3.0.dev202107090108\n",
      "2021-07-28T14:04:37.21214594Z threadpoolctl                 2.1.0\n",
      "2021-07-28T14:04:37.212149576Z tokenizers                    0.9.4\n",
      "2021-07-28T14:04:37.212152464Z torch                         1.7.1\n",
      "2021-07-28T14:04:37.212155105Z torchaudio                    0.7.0a0+a853dff\n",
      "2021-07-28T14:04:37.212157977Z torchvision                   0.8.2\n",
      "2021-07-28T14:04:37.212160637Z tqdm                          4.49.0\n",
      "2021-07-28T14:04:37.212163384Z traitlets                     5.0.5\n",
      "2021-07-28T14:04:37.212166125Z transformers                  4.0.1\n",
      "2021-07-28T14:04:37.212168923Z typer                         0.3.2\n",
      "2021-07-28T14:04:37.212171859Z typing-extensions             3.7.4.3\n",
      "2021-07-28T14:04:37.212174674Z urllib3                       1.25.11\n",
      "2021-07-28T14:04:37.21217748Z uvicorn                       0.11.7\n",
      "2021-07-28T14:04:37.212180367Z uvloop                        0.15.2\n",
      "2021-07-28T14:04:37.212183111Z wcwidth                       0.2.5\n",
      "2021-07-28T14:04:37.212185825Z websockets                    8.1\n",
      "2021-07-28T14:04:37.212188623Z Werkzeug                      2.0.1\n",
      "2021-07-28T14:04:37.212191444Z wheel                         0.36.2\n",
      "2021-07-28T14:04:37.212194152Z wrapt                         1.12.1\n",
      "2021-07-28T14:04:37.212196887Z xxhash                        2.0.2\n",
      "2021-07-28T14:04:37.212199905Z yarl                          1.6.3\n",
      "2021-07-28T14:04:37.212203069Z zipp                          3.5.0\n"
     ]
    }
   ],
   "source": [
    "test_run.logs()"
   ]
  },
  {
   "cell_type": "code",
   "execution_count": null,
   "id": "4ab17c7a",
   "metadata": {},
   "outputs": [],
   "source": []
  },
  {
   "cell_type": "code",
   "execution_count": 248,
   "id": "d5b98fbc",
   "metadata": {},
   "outputs": [],
   "source": [
    "test_run = client_lib.Job(base_image=base_image,\n",
    "                          conda_env=conda_env,\n",
    "                          script='/home/jovyan/t5-experiments/hvd_checkbuild.py',\n",
    "                          n_workers=1,\n",
    "                          env_variables=env_variables,\n",
    "                          warm_cache=False,\n",
    "                          job_desc='hvd_check')"
   ]
  },
  {
   "cell_type": "code",
   "execution_count": 249,
   "id": "4552c66a",
   "metadata": {},
   "outputs": [
    {
     "data": {
      "text/plain": [
       "'Job \"lm-mpi-job-3b10f156-207d-43c5-8146-1f224892eb26\" created'"
      ]
     },
     "execution_count": 249,
     "metadata": {},
     "output_type": "execute_result"
    }
   ],
   "source": [
    "test_run.submit()"
   ]
  },
  {
   "cell_type": "code",
   "execution_count": 251,
   "id": "a563a046",
   "metadata": {},
   "outputs": [
    {
     "name": "stdout",
     "output_type": "stream",
     "text": [
      "2021-08-04T15:04:29.162022921Z lm-mpi-job-3b10f156-207d-43c5-8146-1f224892eb26-mpiworker-0.lm-mpi-job-3b10f156-207d-43c5-8146-1f224892eb26\n",
      "2021-08-04T15:04:29.162039769Z 1\n",
      "2021-08-04T15:04:29.168763643Z worker name is lm-mpi-job-3b10f156-207d-43c5-8146-1f224892eb26-mpiworker-0.lm-mpi-job-3b10f156-207d-43c5-8146-1f224892eb26\n",
      "2021-08-04T15:04:29.321333577Z /opt/kube/wait_workers.sh: line 22: lm-mpi-job-3b10f156-207d-43c5-8146-1f224892eb26-mpiworker-0.lm-mpi-job-3b10f156-207d-43c5-8146-1f224892eb26: Name or service not known\n",
      "2021-08-04T15:04:29.321399781Z /opt/kube/wait_workers.sh: line 22: /dev/tcp/lm-mpi-job-3b10f156-207d-43c5-8146-1f224892eb26-mpiworker-0.lm-mpi-job-3b10f156-207d-43c5-8146-1f224892eb26/2222: Invalid argument\n",
      "2021-08-04T15:04:30.326071144Z /opt/kube/wait_workers.sh: line 22: lm-mpi-job-3b10f156-207d-43c5-8146-1f224892eb26-mpiworker-0.lm-mpi-job-3b10f156-207d-43c5-8146-1f224892eb26: Name or service not known\n",
      "2021-08-04T15:04:30.326115623Z /opt/kube/wait_workers.sh: line 22: /dev/tcp/lm-mpi-job-3b10f156-207d-43c5-8146-1f224892eb26-mpiworker-0.lm-mpi-job-3b10f156-207d-43c5-8146-1f224892eb26/2222: Invalid argument\n",
      "2021-08-04T15:04:31.330187502Z /opt/kube/wait_workers.sh: line 22: lm-mpi-job-3b10f156-207d-43c5-8146-1f224892eb26-mpiworker-0.lm-mpi-job-3b10f156-207d-43c5-8146-1f224892eb26: Name or service not known\n",
      "2021-08-04T15:04:31.330215202Z /opt/kube/wait_workers.sh: line 22: /dev/tcp/lm-mpi-job-3b10f156-207d-43c5-8146-1f224892eb26-mpiworker-0.lm-mpi-job-3b10f156-207d-43c5-8146-1f224892eb26/2222: Invalid argument\n",
      "2021-08-04T15:04:32.333409584Z /opt/kube/wait_workers.sh: line 22: lm-mpi-job-3b10f156-207d-43c5-8146-1f224892eb26-mpiworker-0.lm-mpi-job-3b10f156-207d-43c5-8146-1f224892eb26: Name or service not known\n",
      "2021-08-04T15:04:32.333437131Z /opt/kube/wait_workers.sh: line 22: /dev/tcp/lm-mpi-job-3b10f156-207d-43c5-8146-1f224892eb26-mpiworker-0.lm-mpi-job-3b10f156-207d-43c5-8146-1f224892eb26/2222: Invalid argument\n",
      "2021-08-04T15:04:33.336908448Z /opt/kube/wait_workers.sh: line 22: lm-mpi-job-3b10f156-207d-43c5-8146-1f224892eb26-mpiworker-0.lm-mpi-job-3b10f156-207d-43c5-8146-1f224892eb26: Name or service not known\n",
      "2021-08-04T15:04:33.336936839Z /opt/kube/wait_workers.sh: line 22: /dev/tcp/lm-mpi-job-3b10f156-207d-43c5-8146-1f224892eb26-mpiworker-0.lm-mpi-job-3b10f156-207d-43c5-8146-1f224892eb26/2222: Invalid argument\n",
      "2021-08-04T15:04:34.341654458Z lm-mpi-job-3b10f156-207d-43c5-8146-1f224892eb26-mpiworker-0.lm-mpi-job-3b10f156-207d-43c5-8146-1f224892eb26 is running..\n",
      "2021-08-04T15:04:34.346767126Z lm-mpi-job-3b10f156-207d-43c5-8146-1f224892eb26-mpiworker-0.lm-mpi-job-3b10f156-207d-43c5-8146-1f224892eb26:1,\n",
      "2021-08-04T15:04:34.989119782Z Warning: Permanently added '[lm-mpi-job-3b10f156-207d-43c5-8146-1f224892eb26-mpiworker-0.lm-mpi-job-3b10f156-207d-43c5-8146-1f224892eb26]:2222,[10.233.81.151]:2222' (ECDSA) to the list of known hosts.\n",
      "2021-08-04T15:05:13.441315002Z Horovod v0.21.3:\n",
      "2021-08-04T15:05:13.441349236Z \n",
      "2021-08-04T15:05:13.441353565Z Available Frameworks:\n",
      "2021-08-04T15:05:13.441356554Z     [ ] TensorFlow\n",
      "2021-08-04T15:05:13.441359501Z     [X] PyTorch\n",
      "2021-08-04T15:05:13.441362298Z     [ ] MXNet\n",
      "2021-08-04T15:05:13.441365147Z \n",
      "2021-08-04T15:05:13.441377997Z Available Controllers:\n",
      "2021-08-04T15:05:13.441381244Z     [X] MPI\n",
      "2021-08-04T15:05:13.441384029Z     [X] Gloo\n",
      "2021-08-04T15:05:13.441386728Z \n",
      "2021-08-04T15:05:13.441389607Z Available Tensor Operations:\n",
      "2021-08-04T15:05:13.441392387Z     [X] NCCL\n",
      "2021-08-04T15:05:13.441395074Z     [ ] DDL\n",
      "2021-08-04T15:05:13.44139777Z     [ ] CCL\n",
      "2021-08-04T15:05:13.441400555Z     [X] MPI\n",
      "2021-08-04T15:05:13.44140326Z     [X] Gloo    \n"
     ]
    }
   ],
   "source": [
    "test_run.logs()"
   ]
  },
  {
   "cell_type": "code",
   "execution_count": 158,
   "id": "017a0726",
   "metadata": {},
   "outputs": [],
   "source": [
    "# ok, horovod is good"
   ]
  },
  {
   "cell_type": "code",
   "execution_count": 159,
   "id": "6267ee26",
   "metadata": {},
   "outputs": [],
   "source": [
    "# let's run real job"
   ]
  },
  {
   "cell_type": "code",
   "execution_count": 38,
   "id": "4ad99f03",
   "metadata": {},
   "outputs": [],
   "source": [
    "test_run = client_lib.Job(base_image=base_image,\n",
    "                          conda_env=conda_env,\n",
    "                          script='/home/jovyan/t5-experiments/run_t5_pretraining.py --scale_parameter --relative_step --warmup_init --save_best',\n",
    "                          env_variables=env_variables,\n",
    "                          flags={\n",
    "                                 'batch_size': 4,\n",
    "                                 'gradient_accumulation_steps': 2,\n",
    "                                 'save_interval': 125000,\n",
    "                                 'log_interval': 10000,\n",
    "                                 'iters': 100000000,\n",
    "                                 'task': 'span_corruption',\n",
    "                                 'data_path': '/home/jovyan/data/Wikipedia/preprocessed_shards_train',\n",
    "                                 'valid_data_path': '/home/jovyan/data/Wikipedia/preprocessed_shards_valid',\n",
    "                                 'model_path': './runs/large_wiki_bs_256_adafactor_mem_20_4x8',\n",
    "                                 'vocab': './vocabs/sentencepiece.model',\n",
    "                                 'input_seq_len': 512,\n",
    "                                 'target_seq_len': 192,\n",
    "                                 'optimizer': 'Adafactor',\n",
    "                                 'model_cfg': '/home/jovyan/t5-experiments/t5configs/t5-large-enc-mem_20.json',\n",
    "                                 'model_cls': 'modeling_t5:T5ForConditionalGeneration',\n",
    "                                 'working_dir': '/home/jovyan/t5-experiments',\n",
    "                          },\n",
    "                          job_desc='large-wiki-bs-256-adafactor-mem-20_4x8',\n",
    "                          n_workers=4,\n",
    "                          n_gpus=8,\n",
    "                          type='horovod',\n",
    "                          warm_cache=False)"
   ]
  },
  {
   "cell_type": "code",
   "execution_count": null,
   "id": "77155df7",
   "metadata": {},
   "outputs": [],
   "source": []
  },
  {
   "cell_type": "code",
   "execution_count": 39,
   "id": "45edcd56",
   "metadata": {},
   "outputs": [
    {
     "data": {
      "text/plain": [
       "'Job \"lm-mpi-job-5a6557ba-cf16-401d-88e9-f034f811fd1f\" created'"
      ]
     },
     "execution_count": 39,
     "metadata": {},
     "output_type": "execute_result"
    }
   ],
   "source": [
    "test_run.submit()"
   ]
  },
  {
   "cell_type": "code",
   "execution_count": 28,
   "id": "4af35d60",
   "metadata": {},
   "outputs": [
    {
     "name": "stdout",
     "output_type": "stream",
     "text": [
      "Job in queue. Try later\n"
     ]
    }
   ],
   "source": [
    "test_run.logs()"
   ]
  },
  {
   "cell_type": "code",
   "execution_count": 19,
   "id": "cc5face2",
   "metadata": {},
   "outputs": [
    {
     "data": {
      "text/plain": [
       "'Job \"lm-mpi-job-69e1c159-4d28-45a8-8e86-7fe697562e5c\" deleted'"
      ]
     },
     "execution_count": 19,
     "metadata": {},
     "output_type": "execute_result"
    }
   ],
   "source": [
    "test_run.kill()"
   ]
  },
  {
   "cell_type": "code",
   "execution_count": 29,
   "id": "c40367d9",
   "metadata": {},
   "outputs": [],
   "source": [
    "# 128  4x8  'lm-mpi-job-934ee22b-be7c-463c-9fbc-d195b58e9ee8'\n",
    "# 256  4x8  'lm-mpi-job-5a6557ba-cf16-401d-88e9-f034f811fd1f'\n",
    "# 128 2x16  'lm-mpi-job-bc7dc87d-47ed-4b42-8e9a-ef4fcd3a43d7'"
   ]
  },
  {
   "cell_type": "code",
   "execution_count": null,
   "id": "95cea4a4",
   "metadata": {},
   "outputs": [],
   "source": [
    "client_lib.logs('lm-mpi-job-934ee22b-be7c-463c-9fbc-d195b58e9ee8', tail=20, verbose=True)"
   ]
  },
  {
   "cell_type": "code",
   "execution_count": 46,
   "id": "8f9ccc33",
   "metadata": {},
   "outputs": [],
   "source": [
    "#client_lib.kill('lm-mpi-job-37e92947-fb5a-4353-b317-b6d94733ea6b')"
   ]
  },
  {
   "cell_type": "code",
   "execution_count": null,
   "id": "a9b9d1c9",
   "metadata": {},
   "outputs": [],
   "source": []
  }
 ],
 "metadata": {
  "kernelspec": {
   "display_name": "Python 3",
   "language": "python",
   "name": "python3"
  },
  "language_info": {
   "codemirror_mode": {
    "name": "ipython",
    "version": 3
   },
   "file_extension": ".py",
   "mimetype": "text/x-python",
   "name": "python",
   "nbconvert_exporter": "python",
   "pygments_lexer": "ipython3",
   "version": "3.7.10"
  }
 },
 "nbformat": 4,
 "nbformat_minor": 5
}
